{
  "cells": [
    {
      "cell_type": "code",
      "execution_count": 1,
      "metadata": {},
      "outputs": [],
      "source": [
        "import os\n",
        "os.chdir(\"..\")"
      ]
    },
    {
      "cell_type": "code",
      "execution_count": 2,
      "metadata": {},
      "outputs": [],
      "source": [
        "import geopandas as gpd\n",
        "from shapely import wkt\n",
        "import polars as pl\n",
        "import altair as alt\n",
        "from src.data.data_process import DataClean\n",
        "ds = DataClean()"
      ]
    },
    {
      "cell_type": "code",
      "execution_count": null,
      "metadata": {},
      "outputs": [
        {
          "data": {
            "text/html": [
              "<div><style>\n",
              ".dataframe > thead > tr,\n",
              ".dataframe > tbody > tr {\n",
              "  text-align: right;\n",
              "  white-space: pre-wrap;\n",
              "}\n",
              "</style>\n",
              "<small>shape: (11_273, 43)</small><table border=\"1\" class=\"dataframe\"><thead><tr><th>year</th><th>geoid</th><th>total_pop</th><th>ratio</th><th>under_5_year</th><th>pop_5_9_years</th><th>pop_10_14_years</th><th>pop_15_19_years</th><th>pop_20_24_years</th><th>pop_25_34_years</th><th>pop_35_44_years</th><th>pop_45_54_years</th><th>pop_55_59_years</th><th>pop_60_64_years</th><th>pop_65_74_years</th><th>pop_75_84_years</th><th>over_85_years</th><th>under_5_year_male</th><th>pop_5_9_years_male</th><th>pop_10_14_years_male</th><th>pop_15_19_years_male</th><th>pop_20_24_years_male</th><th>pop_25_34_years_male</th><th>pop_35_44_years_male</th><th>pop_45_54_years_male</th><th>pop_55_59_years_male</th><th>pop_60_64_years_male</th><th>pop_65_74_years_male</th><th>pop_75_84_years_male</th><th>over_85_years_male</th><th>under_5_year_female</th><th>pop_5_9_years_female</th><th>pop_10_14_years_female</th><th>pop_15_19_years_female</th><th>pop_20_24_years_female</th><th>pop_25_34_years_female</th><th>pop_35_44_years_female</th><th>pop_45_54_years_female</th><th>pop_55_59_years_female</th><th>pop_60_64_years_female</th><th>pop_65_74_years_female</th><th>pop_75_84_years_female</th><th>over_85_years_female</th></tr><tr><td>i32</td><td>str</td><td>i32</td><td>f32</td><td>i32</td><td>i32</td><td>i32</td><td>i32</td><td>i32</td><td>i32</td><td>i32</td><td>i32</td><td>i32</td><td>i32</td><td>i32</td><td>i32</td><td>i32</td><td>f64</td><td>f64</td><td>f64</td><td>f64</td><td>f64</td><td>f64</td><td>f64</td><td>f64</td><td>f64</td><td>f64</td><td>f64</td><td>f64</td><td>f64</td><td>f64</td><td>f64</td><td>f64</td><td>f64</td><td>f64</td><td>f64</td><td>f64</td><td>f64</td><td>f64</td><td>f64</td><td>f64</td><td>f64</td><td>f64</td></tr></thead><tbody><tr><td>2012</td><td>&quot;7208317386&quot;</td><td>511</td><td>24.0</td><td>6</td><td>11</td><td>30</td><td>57</td><td>50</td><td>24</td><td>143</td><td>85</td><td>22</td><td>11</td><td>48</td><td>0</td><td>50</td><td>1.16129</td><td>2.129032</td><td>5.806452</td><td>11.032258</td><td>9.677419</td><td>4.645161</td><td>27.677419</td><td>16.451613</td><td>4.258065</td><td>2.129032</td><td>9.290323</td><td>0.0</td><td>9.677419</td><td>4.83871</td><td>8.870968</td><td>24.193548</td><td>45.967742</td><td>40.322581</td><td>19.354839</td><td>115.322581</td><td>68.548387</td><td>17.741935</td><td>8.870968</td><td>38.709677</td><td>0.0</td><td>40.322581</td></tr><tr><td>2012</td><td>&quot;7208355957&quot;</td><td>204</td><td>14.0</td><td>12</td><td>0</td><td>0</td><td>12</td><td>49</td><td>0</td><td>33</td><td>8</td><td>10</td><td>38</td><td>17</td><td>11</td><td>54</td><td>1.473684</td><td>0.0</td><td>0.0</td><td>1.473684</td><td>6.017544</td><td>0.0</td><td>4.052632</td><td>0.982456</td><td>1.22807</td><td>4.666667</td><td>2.087719</td><td>1.350877</td><td>6.631579</td><td>10.526316</td><td>0.0</td><td>0.0</td><td>10.526316</td><td>42.982456</td><td>0.0</td><td>28.947368</td><td>7.017544</td><td>8.77193</td><td>33.333333</td><td>14.912281</td><td>9.649123</td><td>47.368421</td></tr><tr><td>2012</td><td>&quot;7213983649&quot;</td><td>537</td><td>33.0</td><td>83</td><td>74</td><td>60</td><td>29</td><td>57</td><td>75</td><td>15</td><td>23</td><td>17</td><td>42</td><td>0</td><td>29</td><td>21</td><td>20.593985</td><td>18.360902</td><td>14.887218</td><td>7.195489</td><td>14.142857</td><td>18.609023</td><td>3.721805</td><td>5.706767</td><td>4.218045</td><td>10.421053</td><td>0.0</td><td>7.195489</td><td>5.210526</td><td>62.406015</td><td>55.639098</td><td>45.112782</td><td>21.804511</td><td>42.857143</td><td>56.390977</td><td>11.278195</td><td>17.293233</td><td>12.781955</td><td>31.578947</td><td>0.0</td><td>21.804511</td><td>15.789474</td></tr><tr><td>2012</td><td>&quot;7202153162&quot;</td><td>41309</td><td>2243.0</td><td>2286</td><td>2770</td><td>3122</td><td>3283</td><td>5410</td><td>4792</td><td>5826</td><td>2231</td><td>1764</td><td>4046</td><td>2783</td><td>753</td><td>39</td><td>2188.432778</td><td>2651.775501</td><td>2988.752027</td><td>3142.880495</td><td>5179.099445</td><td>4587.475886</td><td>5577.34443</td><td>2135.780196</td><td>1688.711908</td><td>3873.315408</td><td>2664.220657</td><td>720.861716</td><td>37.335467</td><td>97.567222</td><td>118.224499</td><td>133.247973</td><td>140.119505</td><td>230.900555</td><td>204.524114</td><td>248.65557</td><td>95.219804</td><td>75.288092</td><td>172.684592</td><td>118.779343</td><td>32.138284</td><td>1.664533</td></tr><tr><td>2012</td><td>&quot;7202134156&quot;</td><td>40382</td><td>2111.0</td><td>1965</td><td>2343</td><td>2863</td><td>2971</td><td>5290</td><td>5003</td><td>5391</td><td>2786</td><td>2651</td><td>4071</td><td>2232</td><td>705</td><td>40</td><td>1876.126187</td><td>2237.029851</td><td>2733.511081</td><td>2836.626413</td><td>5050.741746</td><td>4776.722298</td><td>5147.173677</td><td>2659.993668</td><td>2531.099502</td><td>3886.87517</td><td>2131.050204</td><td>673.113976</td><td>38.190864</td><td>88.873813</td><td>105.970149</td><td>129.488919</td><td>134.373587</td><td>239.258254</td><td>226.277702</td><td>243.826323</td><td>126.006332</td><td>119.900498</td><td>184.12483</td><td>100.949796</td><td>31.886024</td><td>1.809136</td></tr><tr><td>&hellip;</td><td>&hellip;</td><td>&hellip;</td><td>&hellip;</td><td>&hellip;</td><td>&hellip;</td><td>&hellip;</td><td>&hellip;</td><td>&hellip;</td><td>&hellip;</td><td>&hellip;</td><td>&hellip;</td><td>&hellip;</td><td>&hellip;</td><td>&hellip;</td><td>&hellip;</td><td>&hellip;</td><td>&hellip;</td><td>&hellip;</td><td>&hellip;</td><td>&hellip;</td><td>&hellip;</td><td>&hellip;</td><td>&hellip;</td><td>&hellip;</td><td>&hellip;</td><td>&hellip;</td><td>&hellip;</td><td>&hellip;</td><td>&hellip;</td><td>&hellip;</td><td>&hellip;</td><td>&hellip;</td><td>&hellip;</td><td>&hellip;</td><td>&hellip;</td><td>&hellip;</td><td>&hellip;</td><td>&hellip;</td><td>&hellip;</td><td>&hellip;</td><td>&hellip;</td><td>&hellip;</td></tr><tr><td>2023</td><td>&quot;7215380166&quot;</td><td>1050</td><td>98.900002</td><td>0</td><td>0</td><td>0</td><td>119</td><td>18</td><td>27</td><td>55</td><td>246</td><td>208</td><td>18</td><td>195</td><td>146</td><td>18</td><td>0.0</td><td>0.0</td><td>0.0</td><td>59.170943</td><td>8.950227</td><td>13.42534</td><td>27.347915</td><td>122.319764</td><td>103.424841</td><td>8.950227</td><td>96.960789</td><td>72.596283</td><td>8.950227</td><td>0.0</td><td>0.0</td><td>0.0</td><td>59.829062</td><td>9.049774</td><td>13.574661</td><td>27.652087</td><td>123.680245</td><td>104.575167</td><td>9.049774</td><td>98.039219</td><td>73.403723</td><td>9.049774</td></tr><tr><td>2023</td><td>&quot;7215381069&quot;</td><td>3070</td><td>92.199997</td><td>22</td><td>186</td><td>110</td><td>306</td><td>170</td><td>419</td><td>299</td><td>346</td><td>153</td><td>268</td><td>512</td><td>255</td><td>24</td><td>10.55359</td><td>89.225805</td><td>52.767949</td><td>146.79084</td><td>81.550467</td><td>200.997915</td><td>143.43288</td><td>165.979185</td><td>73.39542</td><td>128.561912</td><td>245.610818</td><td>122.3257</td><td>11.513007</td><td>11.44641</td><td>96.774195</td><td>57.232051</td><td>159.20916</td><td>88.449533</td><td>218.002085</td><td>155.56712</td><td>180.020815</td><td>79.60458</td><td>139.438088</td><td>266.389182</td><td>132.6743</td><td>12.486993</td></tr><tr><td>2023</td><td>&quot;7215381155&quot;</td><td>10538</td><td>84.900002</td><td>343</td><td>648</td><td>677</td><td>463</td><td>550</td><td>1393</td><td>1345</td><td>1255</td><td>756</td><td>558</td><td>1359</td><td>988</td><td>203</td><td>157.494329</td><td>297.540307</td><td>310.856154</td><td>212.594386</td><td>252.541927</td><td>639.619827</td><td>617.579804</td><td>576.254762</td><td>347.130358</td><td>256.215265</td><td>624.008144</td><td>453.657135</td><td>93.21093</td><td>185.505685</td><td>350.45972</td><td>366.143874</td><td>250.405633</td><td>297.458095</td><td>753.38023</td><td>727.420251</td><td>678.74529</td><td>408.869673</td><td>301.784758</td><td>734.991912</td><td>534.342906</td><td>109.789079</td></tr><tr><td>2023</td><td>&quot;7215385541&quot;</td><td>0</td><td>-6.6667e8</td><td>0</td><td>0</td><td>0</td><td>0</td><td>0</td><td>0</td><td>0</td><td>0</td><td>0</td><td>0</td><td>0</td><td>0</td><td>0</td><td>0.0</td><td>0.0</td><td>0.0</td><td>0.0</td><td>0.0</td><td>0.0</td><td>0.0</td><td>0.0</td><td>0.0</td><td>0.0</td><td>0.0</td><td>0.0</td><td>0.0</td><td>-0.0</td><td>-0.0</td><td>-0.0</td><td>-0.0</td><td>-0.0</td><td>-0.0</td><td>-0.0</td><td>-0.0</td><td>-0.0</td><td>-0.0</td><td>-0.0</td><td>-0.0</td><td>-0.0</td></tr><tr><td>2023</td><td>&quot;7215388078&quot;</td><td>2256</td><td>95.300003</td><td>209</td><td>13</td><td>29</td><td>95</td><td>160</td><td>187</td><td>290</td><td>373</td><td>136</td><td>152</td><td>320</td><td>220</td><td>72</td><td>101.985153</td><td>6.343574</td><td>14.15105</td><td>46.356888</td><td>78.074758</td><td>91.249873</td><td>141.510499</td><td>182.01178</td><td>66.363544</td><td>74.17102</td><td>156.149516</td><td>107.352792</td><td>35.133641</td><td>107.014847</td><td>6.656426</td><td>14.84895</td><td>48.643112</td><td>81.925242</td><td>95.750127</td><td>148.489501</td><td>190.98822</td><td>69.636456</td><td>77.82898</td><td>163.850484</td><td>112.647208</td><td>36.866359</td></tr></tbody></table></div>"
            ],
            "text/plain": [
              "shape: (11_273, 43)\n",
              "┌──────┬────────────┬───────────┬───────────┬───┬────────────┬────────────┬────────────┬───────────┐\n",
              "│ year ┆ geoid      ┆ total_pop ┆ ratio     ┆ … ┆ pop_60_64_ ┆ pop_65_74_ ┆ pop_75_84_ ┆ over_85_y │\n",
              "│ ---  ┆ ---        ┆ ---       ┆ ---       ┆   ┆ years_fema ┆ years_fema ┆ years_fema ┆ ears_fema │\n",
              "│ i32  ┆ str        ┆ i32       ┆ f32       ┆   ┆ le         ┆ le         ┆ le         ┆ le        │\n",
              "│      ┆            ┆           ┆           ┆   ┆ ---        ┆ ---        ┆ ---        ┆ ---       │\n",
              "│      ┆            ┆           ┆           ┆   ┆ f64        ┆ f64        ┆ f64        ┆ f64       │\n",
              "╞══════╪════════════╪═══════════╪═══════════╪═══╪════════════╪════════════╪════════════╪═══════════╡\n",
              "│ 2012 ┆ 7208317386 ┆ 511       ┆ 24.0      ┆ … ┆ 8.870968   ┆ 38.709677  ┆ 0.0        ┆ 40.322581 │\n",
              "│ 2012 ┆ 7208355957 ┆ 204       ┆ 14.0      ┆ … ┆ 33.333333  ┆ 14.912281  ┆ 9.649123   ┆ 47.368421 │\n",
              "│ 2012 ┆ 7213983649 ┆ 537       ┆ 33.0      ┆ … ┆ 31.578947  ┆ 0.0        ┆ 21.804511  ┆ 15.789474 │\n",
              "│ 2012 ┆ 7202153162 ┆ 41309     ┆ 2243.0    ┆ … ┆ 172.684592 ┆ 118.779343 ┆ 32.138284  ┆ 1.664533  │\n",
              "│ 2012 ┆ 7202134156 ┆ 40382     ┆ 2111.0    ┆ … ┆ 184.12483  ┆ 100.949796 ┆ 31.886024  ┆ 1.809136  │\n",
              "│ …    ┆ …          ┆ …         ┆ …         ┆ … ┆ …          ┆ …          ┆ …          ┆ …         │\n",
              "│ 2023 ┆ 7215380166 ┆ 1050      ┆ 98.900002 ┆ … ┆ 9.049774   ┆ 98.039219  ┆ 73.403723  ┆ 9.049774  │\n",
              "│ 2023 ┆ 7215381069 ┆ 3070      ┆ 92.199997 ┆ … ┆ 139.438088 ┆ 266.389182 ┆ 132.6743   ┆ 12.486993 │\n",
              "│ 2023 ┆ 7215381155 ┆ 10538     ┆ 84.900002 ┆ … ┆ 301.784758 ┆ 734.991912 ┆ 534.342906 ┆ 109.78907 │\n",
              "│      ┆            ┆           ┆           ┆   ┆            ┆            ┆            ┆ 9         │\n",
              "│ 2023 ┆ 7215385541 ┆ 0         ┆ -6.6667e8 ┆ … ┆ -0.0       ┆ -0.0       ┆ -0.0       ┆ -0.0      │\n",
              "│ 2023 ┆ 7215388078 ┆ 2256      ┆ 95.300003 ┆ … ┆ 77.82898   ┆ 163.850484 ┆ 112.647208 ┆ 36.866359 │\n",
              "└──────┴────────────┴───────────┴───────────┴───┴────────────┴────────────┴────────────┴───────────┘"
            ]
          },
          "execution_count": 27,
          "metadata": {},
          "output_type": "execute_result"
        }
      ],
      "source": [
        "# df = ds.pull_dp05()\n",
        "df.with_columns(\n",
        "    under_5_year_male=pl.col(\"ratio\") * pl.col(\"under_5_year\") / (pl.col(\"ratio\") + 100),\n",
        "    pop_5_9_years_male=pl.col(\"ratio\") * pl.col(\"pop_5_99\") / (pl.col(\"ratio\") + 100),\n",
        "    pop_10_14_years_male=pl.col(\"ratio\") * pl.col(\"pop_10_14_years\") / (pl.col(\"ratio\") + 100),\n",
        "    pop_15_19_years_male=pl.col(\"ratio\") * pl.col(\"pop_15_19_years\") / (pl.col(\"ratio\") + 100),\n",
        "    pop_20_24_years_male=pl.col(\"ratio\") * pl.col(\"pop_20_24_years\") / (pl.col(\"ratio\") + 100),\n",
        "    pop_25_34_years_male=pl.col(\"ratio\") * pl.col(\"pop_25_34_years\") / (pl.col(\"ratio\") + 100),\n",
        "    pop_35_44_years_male=pl.col(\"ratio\") * pl.col(\"pop_35_44_years\") / (pl.col(\"ratio\") + 100),\n",
        "    pop_45_54_years_male=pl.col(\"ratio\") * pl.col(\"pop_45_54_years\") / (pl.col(\"ratio\") + 100),\n",
        "    pop_55_59_years_male=pl.col(\"ratio\") * pl.col(\"pop_55_59_years\") / (pl.col(\"ratio\") + 100),\n",
        "    pop_60_64_years_male=pl.col(\"ratio\") * pl.col(\"pop_60_64_years\") / (pl.col(\"ratio\") + 100),\n",
        "    pop_65_74_years_male=pl.col(\"ratio\") * pl.col(\"pop_65_74_years\") / (pl.col(\"ratio\") + 100),\n",
        "    pop_75_84_years_male=pl.col(\"ratio\") * pl.col(\"pop_75_84_years\") / (pl.col(\"ratio\") + 100),\n",
        "    over_85_years_male=pl.col(\"ratio\") * pl.col(\"over_85_years\") / (pl.col(\"ratio\") + 100),\n",
        "    under_5_year_female=100 * pl.col(\"under_5_year\") / (pl.col(\"ratio\") + 100),\n",
        "    pop_5_9_years_female=100 * pl.col(\"pop_5_9_years\") / (pl.col(\"ratio\") + 100),\n",
        "    pop_10_14_years_female=100 * pl.col(\"pop_10_14_years\") / (pl.col(\"ratio\") + 100),\n",
        "    pop_15_19_years_female=100 * pl.col(\"pop_15_19_years\") / (pl.col(\"ratio\") + 100),\n",
        "    pop_20_24_years_female=100 * pl.col(\"pop_20_24_years\") / (pl.col(\"ratio\") + 100),\n",
        "    pop_25_34_years_female=100 * pl.col(\"pop_25_34_years\") / (pl.col(\"ratio\") + 100),\n",
        "    pop_35_44_years_female=100 * pl.col(\"pop_35_44_years\") / (pl.col(\"ratio\") + 100),\n",
        "    pop_45_54_years_female=100 * pl.col(\"pop_45_54_years\") / (pl.col(\"ratio\") + 100),\n",
        "    pop_55_59_years_female=100 * pl.col(\"pop_55_59_years\") / (pl.col(\"ratio\") + 100),\n",
        "    pop_60_64_years_female=100 * pl.col(\"pop_60_64_years\") / (pl.col(\"ratio\") + 100),\n",
        "    pop_65_74_years_female=100 * pl.col(\"pop_65_74_years\") / (pl.col(\"ratio\") + 100),\n",
        "    pop_75_84_years_female=100 * pl.col(\"pop_75_84_years\") / (pl.col(\"ratio\") + 100),\n",
        "    over_85_years_female=100* pl.col(\"over_85_years\") / (pl.col(\"ratio\") + 100),\n",
        "    )\n"
      ]
    },
    {
      "cell_type": "code",
      "execution_count": 60,
      "metadata": {},
      "outputs": [
        {
          "data": {
            "text/html": [
              "<div><style>\n",
              ".dataframe > thead > tr,\n",
              ".dataframe > tbody > tr {\n",
              "  text-align: right;\n",
              "  white-space: pre-wrap;\n",
              "}\n",
              "</style>\n",
              "<small>shape: (13, 3)</small><table border=\"1\" class=\"dataframe\"><thead><tr><th>agg</th><th>cal_male</th><th>cal_female</th></tr><tr><td>i32</td><td>f64</td><td>f64</td></tr></thead><tbody><tr><td>1</td><td>1184.1</td><td>1094.72</td></tr><tr><td>2</td><td>1644.35</td><td>1331.52</td></tr><tr><td>3</td><td>2104.6</td><td>1568.32</td></tr><tr><td>4</td><td>2550.982</td><td>1793.79</td></tr><tr><td>5</td><td>2654.56</td><td>1828.52</td></tr><tr><td>&hellip;</td><td>&hellip;</td><td>&hellip;</td></tr><tr><td>9</td><td>2362.31</td><td>1657.37</td></tr><tr><td>10</td><td>2320.56</td><td>1632.92</td></tr><tr><td>11</td><td>2257.935</td><td>1596.245</td></tr><tr><td>12</td><td>2174.435</td><td>1547.345</td></tr><tr><td>13</td><td>2128.51</td><td>1520.45</td></tr></tbody></table></div>"
            ],
            "text/plain": [
              "shape: (13, 3)\n",
              "┌─────┬──────────┬────────────┐\n",
              "│ agg ┆ cal_male ┆ cal_female │\n",
              "│ --- ┆ ---      ┆ ---        │\n",
              "│ i32 ┆ f64      ┆ f64        │\n",
              "╞═════╪══════════╪════════════╡\n",
              "│ 1   ┆ 1184.1   ┆ 1094.72    │\n",
              "│ 2   ┆ 1644.35  ┆ 1331.52    │\n",
              "│ 3   ┆ 2104.6   ┆ 1568.32    │\n",
              "│ 4   ┆ 2550.982 ┆ 1793.79    │\n",
              "│ 5   ┆ 2654.56  ┆ 1828.52    │\n",
              "│ …   ┆ …        ┆ …          │\n",
              "│ 9   ┆ 2362.31  ┆ 1657.37    │\n",
              "│ 10  ┆ 2320.56  ┆ 1632.92    │\n",
              "│ 11  ┆ 2257.935 ┆ 1596.245   │\n",
              "│ 12  ┆ 2174.435 ┆ 1547.345   │\n",
              "│ 13  ┆ 2128.51  ┆ 1520.45    │\n",
              "└─────┴──────────┴────────────┘"
            ]
          },
          "execution_count": 60,
          "metadata": {},
          "output_type": "execute_result"
        }
      ],
      "source": [
        "age_df = pl.read_parquet(\"data/external/age_cal.parquet\")\n",
        "age_df = age_df.with_columns(\n",
        "    agg=pl.when((pl.col(\"Edad\") < 5)).then(1)\n",
        "          .when((pl.col(\"Edad\") >= 5) & (pl.col(\"Edad\") < 10)).then(2)\n",
        "          .when((pl.col(\"Edad\") >= 10) & (pl.col(\"Edad\") < 15)).then(3)\n",
        "          .when((pl.col(\"Edad\") >= 15) & (pl.col(\"Edad\") < 20)).then(4)\n",
        "          .when((pl.col(\"Edad\") >= 20) & (pl.col(\"Edad\") < 25)).then(5)\n",
        "          .when((pl.col(\"Edad\") >= 25) & (pl.col(\"Edad\") < 35)).then(6)\n",
        "          .when((pl.col(\"Edad\") >= 35) & (pl.col(\"Edad\") < 45)).then(7)\n",
        "          .when((pl.col(\"Edad\") >= 45) & (pl.col(\"Edad\") < 55)).then(8)\n",
        "          .when((pl.col(\"Edad\") >= 55) & (pl.col(\"Edad\") < 60)).then(9)\n",
        "          .when((pl.col(\"Edad\") >= 60) & (pl.col(\"Edad\") < 65)).then(10)\n",
        "          .when((pl.col(\"Edad\") >= 65) & (pl.col(\"Edad\") < 75)).then(11)\n",
        "          .when((pl.col(\"Edad\") >= 75) & (pl.col(\"Edad\") < 85)).then(12)\n",
        "          .when((pl.col(\"Edad\") >= 85)).then(13)\n",
        "          .otherwise(-1)\n",
        "    )\n",
        "\n",
        "age_df = age_df.group_by(\"agg\").agg(\n",
        "    cal_male=pl.col(\"Caloriashombre\").mean(),\n",
        "    cal_female=pl.col(\"Caloriasmujer\").mean()\n",
        "\n",
        ")\n",
        "age_df.sort(\"agg\")"
      ]
    },
    {
      "cell_type": "code",
      "execution_count": 64,
      "metadata": {},
      "outputs": [
        {
          "data": {
            "text/html": [
              "<div><style>\n",
              ".dataframe > thead > tr,\n",
              ".dataframe > tbody > tr {\n",
              "  text-align: right;\n",
              "  white-space: pre-wrap;\n",
              "}\n",
              "</style>\n",
              "<small>shape: (11_273, 39)</small><table border=\"1\" class=\"dataframe\"><thead><tr><th>year</th><th>geoid</th><th>total_pop</th><th>ratio</th><th>under_5_year</th><th>pop_5_9_years</th><th>pop_10_14_years</th><th>pop_15_19_years</th><th>pop_20_24_years</th><th>pop_25_34_years</th><th>pop_35_44_years</th><th>pop_45_54_years</th><th>pop_55_59_years</th><th>pop_60_64_years</th><th>pop_65_74_years</th><th>pop_75_84_years</th><th>over_85_years</th><th>pop_5_9_years_male</th><th>pop_5_9_years_female</th><th>pop_10_14_years_male</th><th>pop_10_14_years_female</th><th>pop_15_19_years_male</th><th>pop_15_19_years_female</th><th>pop_20_24_years_male</th><th>pop_20_24_years_female</th><th>pop_25_34_years_male</th><th>pop_25_34_years_female</th><th>pop_35_44_years_male</th><th>pop_35_44_years_female</th><th>pop_45_54_years_male</th><th>pop_45_54_years_female</th><th>pop_55_59_years_male</th><th>pop_55_59_years_female</th><th>pop_60_64_years_male</th><th>pop_60_64_years_female</th><th>pop_65_74_years_male</th><th>pop_65_74_years_female</th><th>pop_75_84_years_male</th><th>pop_75_84_years_female</th></tr><tr><td>i32</td><td>str</td><td>i32</td><td>f32</td><td>i32</td><td>i32</td><td>i32</td><td>i32</td><td>i32</td><td>i32</td><td>i32</td><td>i32</td><td>i32</td><td>i32</td><td>i32</td><td>i32</td><td>i32</td><td>f64</td><td>f64</td><td>f64</td><td>f64</td><td>f64</td><td>f64</td><td>f64</td><td>f64</td><td>f64</td><td>f64</td><td>f64</td><td>f64</td><td>f64</td><td>f64</td><td>f64</td><td>f64</td><td>f64</td><td>f64</td><td>f64</td><td>f64</td><td>f64</td><td>f64</td></tr></thead><tbody><tr><td>2012</td><td>&quot;7208317386&quot;</td><td>511</td><td>24.0</td><td>6</td><td>11</td><td>30</td><td>57</td><td>50</td><td>24</td><td>143</td><td>85</td><td>22</td><td>11</td><td>48</td><td>0</td><td>50</td><td>2.129032</td><td>2.129032</td><td>5.806452</td><td>5.806452</td><td>11.032258</td><td>11.032258</td><td>9.677419</td><td>9.677419</td><td>4.645161</td><td>4.645161</td><td>27.677419</td><td>27.677419</td><td>16.451613</td><td>16.451613</td><td>4.258065</td><td>4.258065</td><td>2.129032</td><td>2.129032</td><td>9.290323</td><td>9.290323</td><td>0.0</td><td>0.0</td></tr><tr><td>2012</td><td>&quot;7208355957&quot;</td><td>204</td><td>14.0</td><td>12</td><td>0</td><td>0</td><td>12</td><td>49</td><td>0</td><td>33</td><td>8</td><td>10</td><td>38</td><td>17</td><td>11</td><td>54</td><td>0.0</td><td>0.0</td><td>0.0</td><td>0.0</td><td>1.473684</td><td>1.473684</td><td>6.017544</td><td>6.017544</td><td>0.0</td><td>0.0</td><td>4.052632</td><td>4.052632</td><td>0.982456</td><td>0.982456</td><td>1.22807</td><td>1.22807</td><td>4.666667</td><td>4.666667</td><td>2.087719</td><td>2.087719</td><td>1.350877</td><td>1.350877</td></tr><tr><td>2012</td><td>&quot;7213983649&quot;</td><td>537</td><td>33.0</td><td>83</td><td>74</td><td>60</td><td>29</td><td>57</td><td>75</td><td>15</td><td>23</td><td>17</td><td>42</td><td>0</td><td>29</td><td>21</td><td>18.360902</td><td>18.360902</td><td>14.887218</td><td>14.887218</td><td>7.195489</td><td>7.195489</td><td>14.142857</td><td>14.142857</td><td>18.609023</td><td>18.609023</td><td>3.721805</td><td>3.721805</td><td>5.706767</td><td>5.706767</td><td>4.218045</td><td>4.218045</td><td>10.421053</td><td>10.421053</td><td>0.0</td><td>0.0</td><td>7.195489</td><td>7.195489</td></tr><tr><td>2012</td><td>&quot;7202153162&quot;</td><td>41309</td><td>2243.0</td><td>2286</td><td>2770</td><td>3122</td><td>3283</td><td>5410</td><td>4792</td><td>5826</td><td>2231</td><td>1764</td><td>4046</td><td>2783</td><td>753</td><td>39</td><td>2651.775501</td><td>2651.775501</td><td>2988.752027</td><td>2988.752027</td><td>3142.880495</td><td>3142.880495</td><td>5179.099445</td><td>5179.099445</td><td>4587.475886</td><td>4587.475886</td><td>5577.34443</td><td>5577.34443</td><td>2135.780196</td><td>2135.780196</td><td>1688.711908</td><td>1688.711908</td><td>3873.315408</td><td>3873.315408</td><td>2664.220657</td><td>2664.220657</td><td>720.861716</td><td>720.861716</td></tr><tr><td>2012</td><td>&quot;7202134156&quot;</td><td>40382</td><td>2111.0</td><td>1965</td><td>2343</td><td>2863</td><td>2971</td><td>5290</td><td>5003</td><td>5391</td><td>2786</td><td>2651</td><td>4071</td><td>2232</td><td>705</td><td>40</td><td>2237.029851</td><td>2237.029851</td><td>2733.511081</td><td>2733.511081</td><td>2836.626413</td><td>2836.626413</td><td>5050.741746</td><td>5050.741746</td><td>4776.722298</td><td>4776.722298</td><td>5147.173677</td><td>5147.173677</td><td>2659.993668</td><td>2659.993668</td><td>2531.099502</td><td>2531.099502</td><td>3886.87517</td><td>3886.87517</td><td>2131.050204</td><td>2131.050204</td><td>673.113976</td><td>673.113976</td></tr><tr><td>&hellip;</td><td>&hellip;</td><td>&hellip;</td><td>&hellip;</td><td>&hellip;</td><td>&hellip;</td><td>&hellip;</td><td>&hellip;</td><td>&hellip;</td><td>&hellip;</td><td>&hellip;</td><td>&hellip;</td><td>&hellip;</td><td>&hellip;</td><td>&hellip;</td><td>&hellip;</td><td>&hellip;</td><td>&hellip;</td><td>&hellip;</td><td>&hellip;</td><td>&hellip;</td><td>&hellip;</td><td>&hellip;</td><td>&hellip;</td><td>&hellip;</td><td>&hellip;</td><td>&hellip;</td><td>&hellip;</td><td>&hellip;</td><td>&hellip;</td><td>&hellip;</td><td>&hellip;</td><td>&hellip;</td><td>&hellip;</td><td>&hellip;</td><td>&hellip;</td><td>&hellip;</td><td>&hellip;</td><td>&hellip;</td></tr><tr><td>2023</td><td>&quot;7215380166&quot;</td><td>1050</td><td>98.900002</td><td>0</td><td>0</td><td>0</td><td>119</td><td>18</td><td>27</td><td>55</td><td>246</td><td>208</td><td>18</td><td>195</td><td>146</td><td>18</td><td>0.0</td><td>0.0</td><td>0.0</td><td>0.0</td><td>59.170943</td><td>59.170943</td><td>8.950227</td><td>8.950227</td><td>13.42534</td><td>13.42534</td><td>27.347915</td><td>27.347915</td><td>122.319764</td><td>122.319764</td><td>103.424841</td><td>103.424841</td><td>8.950227</td><td>8.950227</td><td>96.960789</td><td>96.960789</td><td>72.596283</td><td>72.596283</td></tr><tr><td>2023</td><td>&quot;7215381069&quot;</td><td>3070</td><td>92.199997</td><td>22</td><td>186</td><td>110</td><td>306</td><td>170</td><td>419</td><td>299</td><td>346</td><td>153</td><td>268</td><td>512</td><td>255</td><td>24</td><td>89.225805</td><td>89.225805</td><td>52.767949</td><td>52.767949</td><td>146.79084</td><td>146.79084</td><td>81.550467</td><td>81.550467</td><td>200.997915</td><td>200.997915</td><td>143.43288</td><td>143.43288</td><td>165.979185</td><td>165.979185</td><td>73.39542</td><td>73.39542</td><td>128.561912</td><td>128.561912</td><td>245.610818</td><td>245.610818</td><td>122.3257</td><td>122.3257</td></tr><tr><td>2023</td><td>&quot;7215381155&quot;</td><td>10538</td><td>84.900002</td><td>343</td><td>648</td><td>677</td><td>463</td><td>550</td><td>1393</td><td>1345</td><td>1255</td><td>756</td><td>558</td><td>1359</td><td>988</td><td>203</td><td>297.540307</td><td>297.540307</td><td>310.856154</td><td>310.856154</td><td>212.594386</td><td>212.594386</td><td>252.541927</td><td>252.541927</td><td>639.619827</td><td>639.619827</td><td>617.579804</td><td>617.579804</td><td>576.254762</td><td>576.254762</td><td>347.130358</td><td>347.130358</td><td>256.215265</td><td>256.215265</td><td>624.008144</td><td>624.008144</td><td>453.657135</td><td>453.657135</td></tr><tr><td>2023</td><td>&quot;7215385541&quot;</td><td>0</td><td>-6.6667e8</td><td>0</td><td>0</td><td>0</td><td>0</td><td>0</td><td>0</td><td>0</td><td>0</td><td>0</td><td>0</td><td>0</td><td>0</td><td>0</td><td>0.0</td><td>0.0</td><td>0.0</td><td>0.0</td><td>0.0</td><td>0.0</td><td>0.0</td><td>0.0</td><td>0.0</td><td>0.0</td><td>0.0</td><td>0.0</td><td>0.0</td><td>0.0</td><td>0.0</td><td>0.0</td><td>0.0</td><td>0.0</td><td>0.0</td><td>0.0</td><td>0.0</td><td>0.0</td></tr><tr><td>2023</td><td>&quot;7215388078&quot;</td><td>2256</td><td>95.300003</td><td>209</td><td>13</td><td>29</td><td>95</td><td>160</td><td>187</td><td>290</td><td>373</td><td>136</td><td>152</td><td>320</td><td>220</td><td>72</td><td>6.343574</td><td>6.343574</td><td>14.15105</td><td>14.15105</td><td>46.356888</td><td>46.356888</td><td>78.074758</td><td>78.074758</td><td>91.249873</td><td>91.249873</td><td>141.510499</td><td>141.510499</td><td>182.01178</td><td>182.01178</td><td>66.363544</td><td>66.363544</td><td>74.17102</td><td>74.17102</td><td>156.149516</td><td>156.149516</td><td>107.352792</td><td>107.352792</td></tr></tbody></table></div>"
            ],
            "text/plain": [
              "shape: (11_273, 39)\n",
              "┌──────┬────────────┬───────────┬───────────┬───┬────────────┬────────────┬────────────┬───────────┐\n",
              "│ year ┆ geoid      ┆ total_pop ┆ ratio     ┆ … ┆ pop_65_74_ ┆ pop_65_74_ ┆ pop_75_84_ ┆ pop_75_84 │\n",
              "│ ---  ┆ ---        ┆ ---       ┆ ---       ┆   ┆ years_male ┆ years_fema ┆ years_male ┆ _years_fe │\n",
              "│ i32  ┆ str        ┆ i32       ┆ f32       ┆   ┆ ---        ┆ le         ┆ ---        ┆ male      │\n",
              "│      ┆            ┆           ┆           ┆   ┆ f64        ┆ ---        ┆ f64        ┆ ---       │\n",
              "│      ┆            ┆           ┆           ┆   ┆            ┆ f64        ┆            ┆ f64       │\n",
              "╞══════╪════════════╪═══════════╪═══════════╪═══╪════════════╪════════════╪════════════╪═══════════╡\n",
              "│ 2012 ┆ 7208317386 ┆ 511       ┆ 24.0      ┆ … ┆ 9.290323   ┆ 9.290323   ┆ 0.0        ┆ 0.0       │\n",
              "│ 2012 ┆ 7208355957 ┆ 204       ┆ 14.0      ┆ … ┆ 2.087719   ┆ 2.087719   ┆ 1.350877   ┆ 1.350877  │\n",
              "│ 2012 ┆ 7213983649 ┆ 537       ┆ 33.0      ┆ … ┆ 0.0        ┆ 0.0        ┆ 7.195489   ┆ 7.195489  │\n",
              "│ 2012 ┆ 7202153162 ┆ 41309     ┆ 2243.0    ┆ … ┆ 2664.22065 ┆ 2664.22065 ┆ 720.861716 ┆ 720.86171 │\n",
              "│      ┆            ┆           ┆           ┆   ┆ 7          ┆ 7          ┆            ┆ 6         │\n",
              "│ 2012 ┆ 7202134156 ┆ 40382     ┆ 2111.0    ┆ … ┆ 2131.05020 ┆ 2131.05020 ┆ 673.113976 ┆ 673.11397 │\n",
              "│      ┆            ┆           ┆           ┆   ┆ 4          ┆ 4          ┆            ┆ 6         │\n",
              "│ …    ┆ …          ┆ …         ┆ …         ┆ … ┆ …          ┆ …          ┆ …          ┆ …         │\n",
              "│ 2023 ┆ 7215380166 ┆ 1050      ┆ 98.900002 ┆ … ┆ 96.960789  ┆ 96.960789  ┆ 72.596283  ┆ 72.596283 │\n",
              "│ 2023 ┆ 7215381069 ┆ 3070      ┆ 92.199997 ┆ … ┆ 245.610818 ┆ 245.610818 ┆ 122.3257   ┆ 122.3257  │\n",
              "│ 2023 ┆ 7215381155 ┆ 10538     ┆ 84.900002 ┆ … ┆ 624.008144 ┆ 624.008144 ┆ 453.657135 ┆ 453.65713 │\n",
              "│      ┆            ┆           ┆           ┆   ┆            ┆            ┆            ┆ 5         │\n",
              "│ 2023 ┆ 7215385541 ┆ 0         ┆ -6.6667e8 ┆ … ┆ 0.0        ┆ 0.0        ┆ 0.0        ┆ 0.0       │\n",
              "│ 2023 ┆ 7215388078 ┆ 2256      ┆ 95.300003 ┆ … ┆ 156.149516 ┆ 156.149516 ┆ 107.352792 ┆ 107.35279 │\n",
              "│      ┆            ┆           ┆           ┆   ┆            ┆            ┆            ┆ 2         │\n",
              "└──────┴────────────┴───────────┴───────────┴───┴────────────┴────────────┴────────────┴───────────┘"
            ]
          },
          "execution_count": 64,
          "metadata": {},
          "output_type": "execute_result"
        }
      ],
      "source": [
        "tmp = df\n",
        "for col in df.select(pl.col(\"^pop_.*$\")).columns:\n",
        "    tmp = tmp.with_columns(\n",
        "        (pl.col(\"ratio\") * pl.col(col) / (pl.col(\"ratio\") + 100)).alias(col + \"_male\"),\n",
        "        (pl.col(\"ratio\") * pl.col(col) / (pl.col(\"ratio\") + 100)).alias(col + \"_female\"),\n",
        "    )\n",
        "tmp"
      ]
    }
  ],
  "metadata": {
    "kernelspec": {
      "display_name": ".venv",
      "language": "python",
      "name": "python3"
    },
    "language_info": {
      "codemirror_mode": {
        "name": "ipython",
        "version": 3
      },
      "file_extension": ".py",
      "mimetype": "text/x-python",
      "name": "python",
      "nbconvert_exporter": "python",
      "pygments_lexer": "ipython3",
      "version": "3.12.9"
    }
  },
  "nbformat": 4,
  "nbformat_minor": 2
}
