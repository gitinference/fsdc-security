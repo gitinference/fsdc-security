{
 "cells": [
  {
   "cell_type": "code",
   "execution_count": null,
   "metadata": {},
   "outputs": [],
   "source": [
    "import os\n",
    "os.chdir(\"..\")"
   ]
  },
  {
   "cell_type": "code",
   "execution_count": null,
   "metadata": {},
   "outputs": [],
   "source": [
    "import geopandas as gpd\n",
    "from shapely import wkt\n",
    "import polars as pl\n",
    "import altair as alt\n",
    "from src.data.data_process import DataClean\n",
    "ds = DataClean()"
   ]
  },
  {
   "cell_type": "code",
   "execution_count": null,
   "metadata": {},
   "outputs": [],
   "source": [
    "# df = ds.pull_dp05()\n",
    "df.with_columns(\n",
    "    under_5_year_male=pl.col(\"ratio\") * pl.col(\"under_5_year\") / (pl.col(\"ratio\") + 100),\n",
    "    pop_5_9_years_male=pl.col(\"ratio\") * pl.col(\"pop_5_99\") / (pl.col(\"ratio\") + 100),\n",
    "    pop_10_14_years_male=pl.col(\"ratio\") * pl.col(\"pop_10_14_years\") / (pl.col(\"ratio\") + 100),\n",
    "    pop_15_19_years_male=pl.col(\"ratio\") * pl.col(\"pop_15_19_years\") / (pl.col(\"ratio\") + 100),\n",
    "    pop_20_24_years_male=pl.col(\"ratio\") * pl.col(\"pop_20_24_years\") / (pl.col(\"ratio\") + 100),\n",
    "    pop_25_34_years_male=pl.col(\"ratio\") * pl.col(\"pop_25_34_years\") / (pl.col(\"ratio\") + 100),\n",
    "    pop_35_44_years_male=pl.col(\"ratio\") * pl.col(\"pop_35_44_years\") / (pl.col(\"ratio\") + 100),\n",
    "    pop_45_54_years_male=pl.col(\"ratio\") * pl.col(\"pop_45_54_years\") / (pl.col(\"ratio\") + 100),\n",
    "    pop_55_59_years_male=pl.col(\"ratio\") * pl.col(\"pop_55_59_years\") / (pl.col(\"ratio\") + 100),\n",
    "    pop_60_64_years_male=pl.col(\"ratio\") * pl.col(\"pop_60_64_years\") / (pl.col(\"ratio\") + 100),\n",
    "    pop_65_74_years_male=pl.col(\"ratio\") * pl.col(\"pop_65_74_years\") / (pl.col(\"ratio\") + 100),\n",
    "    pop_75_84_years_male=pl.col(\"ratio\") * pl.col(\"pop_75_84_years\") / (pl.col(\"ratio\") + 100),\n",
    "    over_85_years_male=pl.col(\"ratio\") * pl.col(\"over_85_years\") / (pl.col(\"ratio\") + 100),\n",
    "    under_5_year_female=100 * pl.col(\"under_5_year\") / (pl.col(\"ratio\") + 100),\n",
    "    pop_5_9_years_female=100 * pl.col(\"pop_5_9_years\") / (pl.col(\"ratio\") + 100),\n",
    "    pop_10_14_years_female=100 * pl.col(\"pop_10_14_years\") / (pl.col(\"ratio\") + 100),\n",
    "    pop_15_19_years_female=100 * pl.col(\"pop_15_19_years\") / (pl.col(\"ratio\") + 100),\n",
    "    pop_20_24_years_female=100 * pl.col(\"pop_20_24_years\") / (pl.col(\"ratio\") + 100),\n",
    "    pop_25_34_years_female=100 * pl.col(\"pop_25_34_years\") / (pl.col(\"ratio\") + 100),\n",
    "    pop_35_44_years_female=100 * pl.col(\"pop_35_44_years\") / (pl.col(\"ratio\") + 100),\n",
    "    pop_45_54_years_female=100 * pl.col(\"pop_45_54_years\") / (pl.col(\"ratio\") + 100),\n",
    "    pop_55_59_years_female=100 * pl.col(\"pop_55_59_years\") / (pl.col(\"ratio\") + 100),\n",
    "    pop_60_64_years_female=100 * pl.col(\"pop_60_64_years\") / (pl.col(\"ratio\") + 100),\n",
    "    pop_65_74_years_female=100 * pl.col(\"pop_65_74_years\") / (pl.col(\"ratio\") + 100),\n",
    "    pop_75_84_years_female=100 * pl.col(\"pop_75_84_years\") / (pl.col(\"ratio\") + 100),\n",
    "    over_85_years_female=100* pl.col(\"over_85_years\") / (pl.col(\"ratio\") + 100),\n",
    "    )\n"
   ]
  },
  {
   "cell_type": "code",
   "execution_count": null,
   "metadata": {},
   "outputs": [],
   "source": [
    "age_df = pl.read_parquet(\"data/external/age_cal.parquet\")\n",
    "age_df = age_df.with_columns(\n",
    "    agg=pl.when((pl.col(\"Edad\") < 5)).then(1)\n",
    "          .when((pl.col(\"Edad\") >= 5) & (pl.col(\"Edad\") < 10)).then(2)\n",
    "          .when((pl.col(\"Edad\") >= 10) & (pl.col(\"Edad\") < 15)).then(3)\n",
    "          .when((pl.col(\"Edad\") >= 15) & (pl.col(\"Edad\") < 20)).then(4)\n",
    "          .when((pl.col(\"Edad\") >= 20) & (pl.col(\"Edad\") < 25)).then(5)\n",
    "          .when((pl.col(\"Edad\") >= 25) & (pl.col(\"Edad\") < 35)).then(6)\n",
    "          .when((pl.col(\"Edad\") >= 35) & (pl.col(\"Edad\") < 45)).then(7)\n",
    "          .when((pl.col(\"Edad\") >= 45) & (pl.col(\"Edad\") < 55)).then(8)\n",
    "          .when((pl.col(\"Edad\") >= 55) & (pl.col(\"Edad\") < 60)).then(9)\n",
    "          .when((pl.col(\"Edad\") >= 60) & (pl.col(\"Edad\") < 65)).then(10)\n",
    "          .when((pl.col(\"Edad\") >= 65) & (pl.col(\"Edad\") < 75)).then(11)\n",
    "          .when((pl.col(\"Edad\") >= 75) & (pl.col(\"Edad\") < 85)).then(12)\n",
    "          .when((pl.col(\"Edad\") >= 85)).then(13)\n",
    "          .otherwise(-1)\n",
    "    )\n",
    "\n",
    "age_df = age_df.group_by(\"agg\").agg(\n",
    "    cal_male=pl.col(\"Caloriashombre\").mean(),\n",
    "    cal_female=pl.col(\"Caloriasmujer\").mean()\n",
    "\n",
    ")\n",
    "age_df.sort(\"agg\")"
   ]
  },
  {
   "cell_type": "code",
   "execution_count": null,
   "metadata": {},
   "outputs": [],
   "source": [
    "tmp = df\n",
    "for col in df.select(pl.col(\"^pop_.*$\")).columns:\n",
    "    tmp = tmp.with_columns(\n",
    "        (pl.col(\"ratio\") * pl.col(col) / (pl.col(\"ratio\") + 100)).alias(col + \"_male\"),\n",
    "        (pl.col(\"ratio\") * pl.col(col) / (pl.col(\"ratio\") + 100)).alias(col + \"_female\"),\n",
    "    )\n",
    "tmp"
   ]
  }
 ],
 "metadata": {
  "kernelspec": {
   "display_name": ".venv",
   "language": "python",
   "name": "python3"
  },
  "language_info": {
   "codemirror_mode": {
    "name": "ipython",
    "version": 3
   },
   "file_extension": ".py",
   "mimetype": "text/x-python",
   "name": "python",
   "nbconvert_exporter": "python",
   "pygments_lexer": "ipython3",
   "version": "3.12.9"
  }
 },
 "nbformat": 4,
 "nbformat_minor": 2
}
